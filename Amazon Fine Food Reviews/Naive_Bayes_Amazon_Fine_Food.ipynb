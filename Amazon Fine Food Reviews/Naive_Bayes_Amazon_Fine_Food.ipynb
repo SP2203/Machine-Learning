{
 "cells": [
  {
   "cell_type": "markdown",
   "metadata": {},
   "source": [
    "<h1>1.  Amazon Fine Food Reviews Analysis Using Naive Bayes.</h1>"
   ]
  },
  {
   "cell_type": "markdown",
   "metadata": {},
   "source": [
    "\n",
    "    Data Source: https://www.kaggle.com/snap/amazon-fine-food-reviews \n",
    "\n",
    "The Amazon Fine Food Reviews dataset consists of reviews of fine foods from Amazon.<br>\n",
    "\n",
    "* Number of reviews: 568,454<br>\n",
    "* Number of users: 256,059<br>\n",
    "* Number of products: 74,258<br>\n",
    "* Timespan: Oct 1999 - Oct 2012<br>\n",
    "* Number of Attributes/Columns in data: 10 \n",
    "\n",
    "### Attribute Information:\n",
    "\n",
    "1. Id\n",
    "2. ProductId - unique identifier for the product\n",
    "3. UserId - unqiue identifier for the user\n",
    "4. ProfileName\n",
    "5. HelpfulnessNumerator - number of users who found the review helpful i.e(Yes)\n",
    "6. HelpfulnessDenominator - number of users who indicated whether they found the review helpful or not i.e (Yes+No)\n",
    "7. Score - rating between 1 and 5\n",
    "8. Time - timestamp for the review\n",
    "9. Summary - brief summary of the review\n",
    "10. Text - text of the review\n"
   ]
  },
  {
   "cell_type": "markdown",
   "metadata": {},
   "source": [
    "<h2> 2. Data Loading </h2>\n",
    "\n",
    "The dataset is available in CSV forms\n",
    "\n",
    "Here as we only want to get the global sentiment of the recommendations (positive or negative), we will purposefully ignore all Scores equal to 3. If the score id above 3, then the recommendation wil be set to \"positive\". Otherwise, it will be set to \"negative\"."
   ]
  },
  {
   "cell_type": "code",
   "execution_count": 1,
   "metadata": {},
   "outputs": [
    {
     "name": "stdout",
     "output_type": "stream",
     "text": [
      "Requirement already up-to-date: pip in /opt/conda/envs/py3.6/lib/python3.6/site-packages (10.0.1)\n",
      "\u001b[31mjupyter 1.0.0 requires qtconsole, which is not installed.\u001b[0m\n",
      "\u001b[31mipywidgets 7.0.3 has requirement widgetsnbextension~=3.0.0, but you'll have widgetsnbextension 3.2.0 which is incompatible.\u001b[0m\n"
     ]
    }
   ],
   "source": [
    "!pip install --upgrade pip"
   ]
  },
  {
   "cell_type": "code",
   "execution_count": 2,
   "metadata": {},
   "outputs": [
    {
     "name": "stdout",
     "output_type": "stream",
     "text": [
      "Requirement already satisfied: nltk in /opt/conda/envs/py3.6/lib/python3.6/site-packages (3.3)\n",
      "Requirement already satisfied: six in /opt/conda/envs/py3.6/lib/python3.6/site-packages (from nltk) (1.11.0)\n",
      "\u001b[31mjupyter 1.0.0 requires qtconsole, which is not installed.\u001b[0m\n",
      "\u001b[31mipywidgets 7.0.3 has requirement widgetsnbextension~=3.0.0, but you'll have widgetsnbextension 3.2.0 which is incompatible.\u001b[0m\n"
     ]
    }
   ],
   "source": [
    "!pip install nltk"
   ]
  },
  {
   "cell_type": "code",
   "execution_count": 3,
   "metadata": {},
   "outputs": [
    {
     "name": "stdout",
     "output_type": "stream",
     "text": [
      "Requirement already satisfied: seaborn in /opt/conda/envs/py3.6/lib/python3.6/site-packages (0.8.1)\n",
      "\u001b[31mjupyter 1.0.0 requires qtconsole, which is not installed.\u001b[0m\n",
      "\u001b[31mipywidgets 7.0.3 has requirement widgetsnbextension~=3.0.0, but you'll have widgetsnbextension 3.2.0 which is incompatible.\u001b[0m\n"
     ]
    }
   ],
   "source": [
    "!pip install seaborn"
   ]
  },
  {
   "cell_type": "code",
   "execution_count": 4,
   "metadata": {},
   "outputs": [
    {
     "name": "stderr",
     "output_type": "stream",
     "text": [
      "/opt/conda/envs/py3.6/lib/python3.6/site-packages/sklearn/cross_validation.py:41: DeprecationWarning: This module was deprecated in version 0.18 in favor of the model_selection module into which all the refactored classes and functions are moved. Also note that the interface of the new CV iterators are different from that of this module. This module will be removed in 0.20.\n",
      "  \"This module will be removed in 0.20.\", DeprecationWarning)\n"
     ]
    }
   ],
   "source": [
    "import sqlite3\n",
    "import pandas as pd\n",
    "import numpy as np\n",
    "import nltk\n",
    "import string\n",
    "import matplotlib.pyplot as plt\n",
    "import seaborn as sns\n",
    "import zipfile\n",
    "\n",
    "from sklearn import preprocessing\n",
    "from sklearn.preprocessing import StandardScaler\n",
    "from sklearn.decomposition import TruncatedSVD\n",
    "from sklearn.manifold import TSNE\n",
    "from sklearn.feature_extraction.text import TfidfTransformer\n",
    "from sklearn.feature_extraction.text import TfidfVectorizer\n",
    "\n",
    "from sklearn.feature_extraction.text import CountVectorizer\n",
    "from sklearn.cross_validation import train_test_split\n",
    "from sklearn.model_selection import GridSearchCV\n",
    "from sklearn.cross_validation import cross_val_score\n",
    "from sklearn.naive_bayes import GaussianNB\n",
    "from sklearn.naive_bayes import MultinomialNB\n",
    "from sklearn.naive_bayes import BernoulliNB\n",
    "from sklearn.metrics import confusion_matrix\n",
    "from sklearn import metrics\n",
    "from sklearn.metrics import recall_score\n",
    "from sklearn.metrics import f1_score\n",
    "from sklearn.metrics import precision_score\n",
    "from sklearn.metrics import roc_curve, auc\n",
    "from nltk.stem.porter import PorterStemmer\n",
    "\n",
    "\n",
    "import re\n",
    "import string\n",
    "from nltk.corpus import stopwords\n",
    "from nltk.stem.wordnet import WordNetLemmatizer\n",
    "\n",
    "zf=zipfile.ZipFile('Reviews.zip')\n",
    "filtered_data=pd.read_csv(zf.open('Reviews.csv'))\n"
   ]
  },
  {
   "cell_type": "code",
   "execution_count": 5,
   "metadata": {},
   "outputs": [
    {
     "name": "stdout",
     "output_type": "stream",
     "text": [
      "[nltk_data] Downloading package stopwords to /home/jovyan/nltk_data...\n",
      "[nltk_data]   Package stopwords is already up-to-date!\n"
     ]
    },
    {
     "data": {
      "text/plain": [
       "True"
      ]
     },
     "execution_count": 5,
     "metadata": {},
     "output_type": "execute_result"
    }
   ],
   "source": [
    "nltk.download('stopwords')"
   ]
  },
  {
   "cell_type": "code",
   "execution_count": 6,
   "metadata": {},
   "outputs": [],
   "source": [
    "# Give reviews with Score>3 a positive rating, and reviews with a score<3 a negative rating.\n",
    "def partition(x):\n",
    "    if x < 3:\n",
    "        return 'negative'\n",
    "    return 'positive'\n",
    "\n",
    "#changing reviews with score less than 3 to be positive and vice-versa\n",
    "actualScore = filtered_data['Score']\n",
    "positiveNegative = actualScore.map(partition) \n",
    "filtered_data['Score'] = positiveNegative"
   ]
  },
  {
   "cell_type": "code",
   "execution_count": 7,
   "metadata": {},
   "outputs": [
    {
     "name": "stdout",
     "output_type": "stream",
     "text": [
      "(568454, 10)\n"
     ]
    },
    {
     "data": {
      "text/html": [
       "<div>\n",
       "<style>\n",
       "    .dataframe thead tr:only-child th {\n",
       "        text-align: right;\n",
       "    }\n",
       "\n",
       "    .dataframe thead th {\n",
       "        text-align: left;\n",
       "    }\n",
       "\n",
       "    .dataframe tbody tr th {\n",
       "        vertical-align: top;\n",
       "    }\n",
       "</style>\n",
       "<table border=\"1\" class=\"dataframe\">\n",
       "  <thead>\n",
       "    <tr style=\"text-align: right;\">\n",
       "      <th></th>\n",
       "      <th>Id</th>\n",
       "      <th>ProductId</th>\n",
       "      <th>UserId</th>\n",
       "      <th>ProfileName</th>\n",
       "      <th>HelpfulnessNumerator</th>\n",
       "      <th>HelpfulnessDenominator</th>\n",
       "      <th>Score</th>\n",
       "      <th>Time</th>\n",
       "      <th>Summary</th>\n",
       "      <th>Text</th>\n",
       "    </tr>\n",
       "  </thead>\n",
       "  <tbody>\n",
       "    <tr>\n",
       "      <th>0</th>\n",
       "      <td>1</td>\n",
       "      <td>B001E4KFG0</td>\n",
       "      <td>A3SGXH7AUHU8GW</td>\n",
       "      <td>delmartian</td>\n",
       "      <td>1</td>\n",
       "      <td>1</td>\n",
       "      <td>positive</td>\n",
       "      <td>1303862400</td>\n",
       "      <td>Good Quality Dog Food</td>\n",
       "      <td>I have bought several of the Vitality canned d...</td>\n",
       "    </tr>\n",
       "    <tr>\n",
       "      <th>1</th>\n",
       "      <td>2</td>\n",
       "      <td>B00813GRG4</td>\n",
       "      <td>A1D87F6ZCVE5NK</td>\n",
       "      <td>dll pa</td>\n",
       "      <td>0</td>\n",
       "      <td>0</td>\n",
       "      <td>negative</td>\n",
       "      <td>1346976000</td>\n",
       "      <td>Not as Advertised</td>\n",
       "      <td>Product arrived labeled as Jumbo Salted Peanut...</td>\n",
       "    </tr>\n",
       "    <tr>\n",
       "      <th>2</th>\n",
       "      <td>3</td>\n",
       "      <td>B000LQOCH0</td>\n",
       "      <td>ABXLMWJIXXAIN</td>\n",
       "      <td>Natalia Corres \"Natalia Corres\"</td>\n",
       "      <td>1</td>\n",
       "      <td>1</td>\n",
       "      <td>positive</td>\n",
       "      <td>1219017600</td>\n",
       "      <td>\"Delight\" says it all</td>\n",
       "      <td>This is a confection that has been around a fe...</td>\n",
       "    </tr>\n",
       "    <tr>\n",
       "      <th>3</th>\n",
       "      <td>4</td>\n",
       "      <td>B000UA0QIQ</td>\n",
       "      <td>A395BORC6FGVXV</td>\n",
       "      <td>Karl</td>\n",
       "      <td>3</td>\n",
       "      <td>3</td>\n",
       "      <td>negative</td>\n",
       "      <td>1307923200</td>\n",
       "      <td>Cough Medicine</td>\n",
       "      <td>If you are looking for the secret ingredient i...</td>\n",
       "    </tr>\n",
       "    <tr>\n",
       "      <th>4</th>\n",
       "      <td>5</td>\n",
       "      <td>B006K2ZZ7K</td>\n",
       "      <td>A1UQRSCLF8GW1T</td>\n",
       "      <td>Michael D. Bigham \"M. Wassir\"</td>\n",
       "      <td>0</td>\n",
       "      <td>0</td>\n",
       "      <td>positive</td>\n",
       "      <td>1350777600</td>\n",
       "      <td>Great taffy</td>\n",
       "      <td>Great taffy at a great price.  There was a wid...</td>\n",
       "    </tr>\n",
       "  </tbody>\n",
       "</table>\n",
       "</div>"
      ],
      "text/plain": [
       "   Id   ProductId          UserId                      ProfileName  \\\n",
       "0   1  B001E4KFG0  A3SGXH7AUHU8GW                       delmartian   \n",
       "1   2  B00813GRG4  A1D87F6ZCVE5NK                           dll pa   \n",
       "2   3  B000LQOCH0   ABXLMWJIXXAIN  Natalia Corres \"Natalia Corres\"   \n",
       "3   4  B000UA0QIQ  A395BORC6FGVXV                             Karl   \n",
       "4   5  B006K2ZZ7K  A1UQRSCLF8GW1T    Michael D. Bigham \"M. Wassir\"   \n",
       "\n",
       "   HelpfulnessNumerator  HelpfulnessDenominator     Score        Time  \\\n",
       "0                     1                       1  positive  1303862400   \n",
       "1                     0                       0  negative  1346976000   \n",
       "2                     1                       1  positive  1219017600   \n",
       "3                     3                       3  negative  1307923200   \n",
       "4                     0                       0  positive  1350777600   \n",
       "\n",
       "                 Summary                                               Text  \n",
       "0  Good Quality Dog Food  I have bought several of the Vitality canned d...  \n",
       "1      Not as Advertised  Product arrived labeled as Jumbo Salted Peanut...  \n",
       "2  \"Delight\" says it all  This is a confection that has been around a fe...  \n",
       "3         Cough Medicine  If you are looking for the secret ingredient i...  \n",
       "4            Great taffy  Great taffy at a great price.  There was a wid...  "
      ]
     },
     "execution_count": 7,
     "metadata": {},
     "output_type": "execute_result"
    }
   ],
   "source": [
    "print(filtered_data.shape) #looking at the number of attributes and size of the data\n",
    "filtered_data.head()"
   ]
  },
  {
   "cell_type": "markdown",
   "metadata": {},
   "source": [
    "<h1> 3. Data Cleaning: Deduplication.</h1>\n",
    "\n",
    "It is observed (as shown in the table below) that the reviews data had many duplicate entries. Hence it was necessary to remove duplicates in order to get unbiased results for the analysis of the data."
   ]
  },
  {
   "cell_type": "markdown",
   "metadata": {},
   "source": [
    "It was inferred after analysis that reviews with same parameters other than ProductId belonged to the same product just having different flavour or quantity. Hence in order to reduce redundancy it was decided to eliminate the rows having same parameters.<br>\n",
    "\n",
    "The method used for the same was that we first sort the data according to ProductId and then just keep the first similar product review and delelte the others. This method ensures that there is only one representative for each product and deduplication without sorting would lead to possibility of different representatives still existing for the same product."
   ]
  },
  {
   "cell_type": "code",
   "execution_count": 8,
   "metadata": {},
   "outputs": [
    {
     "data": {
      "text/plain": [
       "(393933, 10)"
      ]
     },
     "execution_count": 8,
     "metadata": {},
     "output_type": "execute_result"
    }
   ],
   "source": [
    "#Sorting data according to ProductId in ascending order\n",
    "sorted_data=filtered_data.sort_values('ProductId', axis=0, ascending=True,\n",
    "                                      inplace=False, kind='quicksort',\n",
    "                                      na_position='last')\n",
    "\n",
    "#Deduplication of entries\n",
    "final=sorted_data.drop_duplicates(subset={\"UserId\",\"ProfileName\",\n",
    "                                          \"Time\",\"Text\"}, keep='first',\n",
    "                                  inplace=False)\n",
    "final.shape"
   ]
  },
  {
   "cell_type": "code",
   "execution_count": 9,
   "metadata": {},
   "outputs": [
    {
     "data": {
      "text/plain": [
       "69.29901100176971"
      ]
     },
     "execution_count": 9,
     "metadata": {},
     "output_type": "execute_result"
    }
   ],
   "source": [
    "#Checking to see how much % of data still remains\n",
    "(final['Id'].size*1.0)/(filtered_data['Id'].size*1.0)*100"
   ]
  },
  {
   "cell_type": "markdown",
   "metadata": {},
   "source": [
    "<b>Observation:-</b> It was also seen that in two rows, the value of HelpfulnessNumerator is greater than HelpfulnessDenominator which is not practically possible hence these two rows too are removed from calcualtions"
   ]
  },
  {
   "cell_type": "code",
   "execution_count": 10,
   "metadata": {},
   "outputs": [],
   "source": [
    "final=final[final.HelpfulnessNumerator<=final.HelpfulnessDenominator]"
   ]
  },
  {
   "cell_type": "code",
   "execution_count": 11,
   "metadata": {},
   "outputs": [
    {
     "name": "stdout",
     "output_type": "stream",
     "text": [
      "(393931, 10)\n"
     ]
    },
    {
     "data": {
      "text/plain": [
       "positive    336824\n",
       "negative     57107\n",
       "Name: Score, dtype: int64"
      ]
     },
     "execution_count": 11,
     "metadata": {},
     "output_type": "execute_result"
    }
   ],
   "source": [
    "#Before starting the next phase of preprocessing lets see the number of entries left\n",
    "print(final.shape)\n",
    "\n",
    "#How many positive and negative reviews are present in our dataset?\n",
    "final['Score'].value_counts()"
   ]
  },
  {
   "cell_type": "markdown",
   "metadata": {},
   "source": [
    "<h1> 4.Text Preprocessing: Stemming, stop-word removal and Lemmatization. </h1>\n",
    "\n",
    "Now that we have finished deduplication our data requires some preprocessing before we go on further with analysis and making the prediction model.\n",
    "\n",
    "Hence in the Preprocessing phase we do the following in the order below:-\n",
    "\n",
    "1. Begin by removing the html tags\n",
    "2. Remove any punctuations or limited set of special characters like , or . or # etc.\n",
    "3. Check if the word is made up of english letters and is not alpha-numeric\n",
    "4. Check to see if the length of the word is greater than 2 (as it was researched that there is no adjective in 2-letters)\n",
    "5. Convert the word to lowercase\n",
    "6. Remove Stopwords\n",
    "7. Finally Snowball Stemming the word (it was obsereved to be better than Porter Stemming)<br>\n",
    "\n",
    "After which we collect the words used to describe positive and negative reviews"
   ]
  },
  {
   "cell_type": "code",
   "execution_count": 12,
   "metadata": {},
   "outputs": [
    {
     "name": "stdout",
     "output_type": "stream",
     "text": [
      "{'when', 'some', \"shan't\", 'its', 'no', 'theirs', \"should've\", 'aren', 'more', 'in', 'hadn', \"weren't\", 'both', 'her', 'ma', 'yourself', 'him', 't', \"mustn't\", \"mightn't\", 'himself', \"you'd\", 'yours', 'too', 'same', 'why', 'here', 'ours', 'most', \"don't\", 'after', 'with', 'ourselves', 'doesn', 'how', 'very', 'we', 'can', \"haven't\", 'few', 'mustn', 'll', 'wouldn', 'herself', 'does', 'a', 'i', 'shan', 'hasn', 'couldn', 'will', 'it', 'other', \"didn't\", 'where', 'about', 'who', \"she's\", \"you're\", 'but', 'any', 'm', 'isn', \"won't\", 'his', \"that'll\", 'not', 'are', 'the', 's', 'what', 'weren', 'and', 'down', 'just', \"hasn't\", \"you've\", 'such', 'yourselves', 'do', \"couldn't\", 'don', 'me', 'there', 'were', 'by', 'during', 'between', 'below', 'up', 'this', 'before', 'didn', 'y', \"wasn't\", 'all', 'being', 'he', 'them', 'had', 'ain', 'have', 'these', 'then', 'as', \"hadn't\", 'hers', 'mightn', 'itself', 'to', 'having', 'above', 'be', 'until', 'from', 'is', 'those', 'because', 'off', \"aren't\", 'whom', 'was', 'nor', 'against', 've', \"needn't\", 'out', 'for', 'themselves', 'over', 'that', 'again', 'an', 'on', 'myself', 'needn', 'under', 'my', 'wasn', 'into', 'their', 'she', 'so', 'haven', \"isn't\", 'of', 'further', 'or', 're', 'o', 'doing', 'own', 'your', 'did', 'each', 'they', 'at', 'has', \"you'll\", 'only', \"it's\", 'should', \"shouldn't\", 'am', 'won', 'which', 'shouldn', 'than', 'while', 'you', 'now', 'through', 'our', 'if', 'd', 'once', \"doesn't\", \"wouldn't\", 'been'}\n"
     ]
    }
   ],
   "source": [
    "#Defining function to remove HTML tags and Punctuation marks in the review\n",
    "\n",
    "def cleanhtml(sentence): #function to clean the word of any html-tags\n",
    "    cleanr = re.compile('<.*?>')\n",
    "    cleantext = re.sub(cleanr, ' ', sentence)\n",
    "    return cleantext\n",
    "def cleanpunc(sentence): #function to clean the word of any punctuation or special characters\n",
    "    cleaned = re.sub(r'[?|!|\\'|\"|#]',r'',sentence)\n",
    "    cleaned = re.sub(r'[.|,|)|(|\\|/]',r' ',cleaned)\n",
    "    return  cleaned\n",
    "\n",
    "stop = set(stopwords.words('english')) #set of stopwords\n",
    "sno = nltk.stem.SnowballStemmer('english') #initialising the snowball stemmer\n",
    "print(stop)"
   ]
  },
  {
   "cell_type": "markdown",
   "metadata": {},
   "source": [
    "This is above list of stop-words that are present in English.But if we closely observe the above list we would see that \"couldn't\",\"not\",\"won't\" etc are consider as stopwords which actually provides great meaning to the sentences<br>.\n",
    "\n",
    "Therefore we must exclude such words from our list of stopwords."
   ]
  },
  {
   "cell_type": "code",
   "execution_count": 13,
   "metadata": {},
   "outputs": [],
   "source": [
    "stop={'haven', 'further', 'when', 'those', 'only',\n",
    "      'i', 'o', 'above', 'were', 'ourselves', \"you'll\",\n",
    "      'having', 'then', 'll', 'your', \"you're\",'there',\n",
    "      \"she's\", 'will', 'the','whom', 'be', 'some', 'through',\n",
    "      'their', 'up', 'had', 'he', 'both', 'down',\n",
    "      'all', 'these', 'during','of','themselves',\"it's\",\n",
    "      'that', 'over','doing','at', 'but', 'here', 're','own',\n",
    "      'yourself', 'until','itself', 'just', 'our','him', 's',\n",
    "      'my', 'does', 'for', 'being','have', 'it', 'very', 'she',\n",
    "      'more', 'again', 'off','do','are','who', 'her','shan', 'each',\n",
    "      'after', 'how', 'am','if','most', 'theirs', 'don', 'myself',\n",
    "      'from', \"should've\",'once',\"you'd\", 'you','between', 'herself',\n",
    "      'too', 'ours', 'because','himself','they', 'with', 't', 'an',\n",
    "      'few', 'in', 'yourselves','what', 've', 'where', 'below','to',\n",
    "      'now', 'me',\"that'll\", 'why', 'other','y', 'did', 'its', 'or',\n",
    "      'before', 'about','should', 'any', 'out','can','has', 'same',\n",
    "      'a', 'as','d', 'so', \"you've\", 'is', 'which', 'on', 'his', 'we',\n",
    "      'them', 'yours', 'been', 'this', 'won', 'than', 'm','by', 'ma',\n",
    "      'was', 'hers', 'into','while','and', 'such', 'under'}"
   ]
  },
  {
   "cell_type": "code",
   "execution_count": 50,
   "metadata": {},
   "outputs": [],
   "source": [
    "#Code for implementing step-by-step the checks mentioned in the pre-processing phase\n",
    "# this code takes a while to run as it needs to run on 500k sentences.\n",
    "i=0\n",
    "str1=' '\n",
    "final_string=[]\n",
    "all_positive_words=[] # store words from +ve reviews here\n",
    "all_negative_words=[] # store words from -ve reviews here\n",
    "s=''\n",
    "for sent in final['Text'].values:\n",
    "    filtered_sentence=[]\n",
    "    sent=cleanhtml(sent) # remove HTMl tags\n",
    "    for w in sent.split():\n",
    "        for cleaned_words in cleanpunc(w).split():\n",
    "            if((cleaned_words.isalpha()) & (len(cleaned_words)>2)):    \n",
    "                if(cleaned_words.lower() not in stop):\n",
    "                    s=(sno.stem(cleaned_words.lower())).encode('utf8')\n",
    "                    filtered_sentence.append(s)   \n",
    "                    if (final['Score'].values)[i] == 'positive': \n",
    "                        all_positive_words.append(s) #list of all words used to describe positive reviews\n",
    "                    if(final['Score'].values)[i] == 'negative':\n",
    "                        all_negative_words.append(s) #list of all words used to describe negative reviews reviews   \n",
    "                else:\n",
    "                    continue\n",
    "            else:\n",
    "                continue \n",
    "    str1 = (b\" \".join(filtered_sentence)).decode() #final string of cleaned words\n",
    "    #print(\"***********************************************************************\")\n",
    "    \n",
    "    final_string.append(str1)\n",
    "    i+=1"
   ]
  },
  {
   "cell_type": "code",
   "execution_count": 15,
   "metadata": {},
   "outputs": [
    {
     "name": "stdout",
     "output_type": "stream",
     "text": [
      "            Id   ProductId          UserId            ProfileName  \\\n",
      "150528  150529  0006641040   A25ACLV5KPB4W    Matt Hetling \"Matt\"   \n",
      "150506  150507  0006641040  A1S4A3IQ2MU7V4  sally sue \"sally sue\"   \n",
      "150505  150506  0006641040  A2IW4PEEKO2R0U                  Tracy   \n",
      "\n",
      "        HelpfulnessNumerator  HelpfulnessDenominator     Score        Time  \\\n",
      "150528                     0                       1  positive  1108425600   \n",
      "150506                     1                       1  positive  1191456000   \n",
      "150505                     1                       1  positive  1194739200   \n",
      "\n",
      "                                           Summary  \\\n",
      "150528                 Nice cadence, catchy rhymes   \n",
      "150506               chicken soup with rice months   \n",
      "150505  Love the book, miss the hard cover version   \n",
      "\n",
      "                                                     Text  \\\n",
      "150528  In June<br />I saw a charming group<br />of ro...   \n",
      "150506  This is a fun way for children to learn their ...   \n",
      "150505  I grew up reading these Sendak books, and watc...   \n",
      "\n",
      "                                              CleanedText  \n",
      "150528  june saw charm group rose begin droop pep chic...  \n",
      "150506  fun way children learn month year learn poem t...  \n",
      "150505  grew read sendak book watch realli rosi movi i...  \n"
     ]
    }
   ],
   "source": [
    "final['CleanedText']=final_string #adding a column of CleanedText which displays the data after pre-processing of the review \n",
    "\n",
    "print(final.head(3)) #below the processed review can be seen in the CleanedText Column \n"
   ]
  },
  {
   "cell_type": "markdown",
   "metadata": {},
   "source": [
    "Now we have obtained data after pre-processing it.i.e Data cleaning,Text pre-processing etc.Now lets convert this cleaned text into vectors by applying Bag of Words(BoW),Term Frequency Inverse Document Frequency(TF-IDF),Word2Vec and Average Word2Vec."
   ]
  },
  {
   "cell_type": "markdown",
   "metadata": {},
   "source": [
    "<h1>5. Time stamping </h1>"
   ]
  },
  {
   "cell_type": "markdown",
   "metadata": {},
   "source": [
    "Before using this data we would sort the entire data based on time stamp"
   ]
  },
  {
   "cell_type": "code",
   "execution_count": 16,
   "metadata": {},
   "outputs": [
    {
     "data": {
      "text/plain": [
       "(393931, 11)"
      ]
     },
     "execution_count": 16,
     "metadata": {},
     "output_type": "execute_result"
    }
   ],
   "source": [
    "final_sorted=final.sort_values(by=['Time'])\n",
    "final_sorted.shape"
   ]
  },
  {
   "cell_type": "code",
   "execution_count": 17,
   "metadata": {},
   "outputs": [],
   "source": [
    "def Rates(tn,fp,fn,tp):\n",
    "    TPR=float(tp/(tp+fn))\n",
    "    TNR=float(tn/(tn+fp))\n",
    "    FPR=float(fp/(tn+fp))\n",
    "    FNR=float(fn/(tp+fn))\n",
    "    print(\"True Positive Rate or Sensitivity = %f\" %(TPR*100))\n",
    "    print(\"True Negative Rate or Specificity = %f\" %(TNR*100))\n",
    "    print(\"False Positive Rate or Fall-out = %f\" %(FPR*100))\n",
    "    print(\"False Negative Rate or Missclassification rate = %f\" %(FNR*100))"
   ]
  },
  {
   "cell_type": "markdown",
   "metadata": {},
   "source": [
    "<h1>6. Bag of Words (BoW) </h1>"
   ]
  },
  {
   "cell_type": "markdown",
   "metadata": {},
   "source": [
    "Now lets apply Bag of Words to our cleaned sorted text, to convert text into corresponding vectors"
   ]
  },
  {
   "cell_type": "code",
   "execution_count": 30,
   "metadata": {},
   "outputs": [],
   "source": [
    "#BoW\n",
    "count_vect = CountVectorizer() #in scikit-learn\n",
    "final_counts = count_vect.fit_transform(final_sorted['CleanedText'].values)\n"
   ]
  },
  {
   "cell_type": "code",
   "execution_count": 31,
   "metadata": {},
   "outputs": [
    {
     "data": {
      "text/plain": [
       "(393931, 74585)"
      ]
     },
     "execution_count": 31,
     "metadata": {},
     "output_type": "execute_result"
    }
   ],
   "source": [
    "final_counts.get_shape()"
   ]
  },
  {
   "cell_type": "markdown",
   "metadata": {},
   "source": [
    "There are total almost 393k data points with around 74.5k dimensions.\n",
    "\n",
    "Splitting the entire datasets into <b>70% train data and 30% test data</b>"
   ]
  },
  {
   "cell_type": "code",
   "execution_count": 32,
   "metadata": {},
   "outputs": [],
   "source": [
    "X_train, X_test, y_train, y_test = train_test_split(final_counts, \n",
    "                                                             final_sorted['Score'],test_size=0.3,\n",
    "                                                             random_state=0)"
   ]
  },
  {
   "cell_type": "markdown",
   "metadata": {},
   "source": [
    "For performing Cross-Validation we would be using <b>3-fold CV </b> and the values of alpha would be from<b> 0.1 to 1</b>"
   ]
  },
  {
   "cell_type": "code",
   "execution_count": 33,
   "metadata": {},
   "outputs": [
    {
     "data": {
      "text/plain": [
       "[0.1, 0.2, 0.3, 0.4, 0.5, 0.6, 0.7, 0.8, 0.9, 1.0]"
      ]
     },
     "execution_count": 33,
     "metadata": {},
     "output_type": "execute_result"
    }
   ],
   "source": [
    "ap=[0.1,0.2,0.3,0.4,0.5,0.6,0.7,0.8,0.9,1.0]\n",
    "ap"
   ]
  },
  {
   "cell_type": "code",
   "execution_count": 34,
   "metadata": {},
   "outputs": [
    {
     "name": "stdout",
     "output_type": "stream",
     "text": [
      "\n",
      "The optimal value of alpha is 1.000000.\n"
     ]
    }
   ],
   "source": [
    "#values_alpha=[{'alpha':ap}]\n",
    "cv_scores=[]\n",
    "# perform 3-fold cross validation\n",
    "for a in ap:\n",
    "    NB= MultinomialNB(alpha=a)\n",
    "    scores = cross_val_score(NB, X_train, y_train, cv=3, scoring='accuracy',n_jobs=1)\n",
    "    cv_scores.append(scores.mean())\n",
    "\n",
    "# changing to misclassification error\n",
    "MSE = [1 - x for x in cv_scores]\n",
    "\n",
    "# determining best k\n",
    "optimal_a = ap[MSE.index(min(MSE))]\n",
    "print('\\nThe optimal value of alpha is %f.' % optimal_a)\n"
   ]
  },
  {
   "cell_type": "code",
   "execution_count": 35,
   "metadata": {},
   "outputs": [
    {
     "data": {
      "image/png": "[encoded data removed]",
      "text/plain": [
       "<matplotlib.figure.Figure at 0x3ffeec10e748>"
      ]
     },
     "metadata": {},
     "output_type": "display_data"
    }
   ],
   "source": [
    "# plot misclassification error vs k \n",
    "plt.plot(ap, MSE)\n",
    "\n",
    "for xy in zip(ap, np.round(MSE,3)):\n",
    "    plt.annotate('(%s, %s)' % xy, xy=xy, textcoords='data')\n",
    "\n",
    "plt.xlabel('Value of Alpha')\n",
    "plt.ylabel('Misclassification Error')\n",
    "plt.show()"
   ]
  },
  {
   "cell_type": "markdown",
   "metadata": {},
   "source": [
    "<b> Applying Multinomial Naive Bayes to the training data by using optimal value of alpha</b>."
   ]
  },
  {
   "cell_type": "code",
   "execution_count": 36,
   "metadata": {},
   "outputs": [
    {
     "data": {
      "text/plain": [
       "MultinomialNB(alpha=1.0, class_prior=None, fit_prior=True)"
      ]
     },
     "execution_count": 36,
     "metadata": {},
     "output_type": "execute_result"
    }
   ],
   "source": [
    "clf = MultinomialNB(alpha=optimal_a)\n",
    "clf.fit(X_train,y_train)\n"
   ]
  },
  {
   "cell_type": "code",
   "execution_count": 37,
   "metadata": {},
   "outputs": [],
   "source": [
    "Y_pred=clf.predict(X_test)"
   ]
  },
  {
   "cell_type": "code",
   "execution_count": 38,
   "metadata": {},
   "outputs": [
    {
     "data": {
      "text/plain": [
       "0.89103909290912164"
      ]
     },
     "execution_count": 38,
     "metadata": {},
     "output_type": "execute_result"
    }
   ],
   "source": [
    "X=clf.score(X_test,y_test)\n",
    "X"
   ]
  },
  {
   "cell_type": "markdown",
   "metadata": {},
   "source": [
    "The <b>accuracy</b> of the model using Multinomial Naive Bayes using <b>Bag of Words</b> representation is found to be <b>89.10%</b>"
   ]
  },
  {
   "cell_type": "code",
   "execution_count": 39,
   "metadata": {},
   "outputs": [
    {
     "name": "stdout",
     "output_type": "stream",
     "text": [
      "True Positive Rate or Sensitivity = 93.436844\n",
      "True Negative Rate or Specificity = 63.651698\n",
      "False Positive Rate or Fall-out = 36.348302\n",
      "False Negative Rate or Missclassification rate = 6.563156\n"
     ]
    }
   ],
   "source": [
    "tn, fp, fn, tp =confusion_matrix(y_test, Y_pred).ravel()\n",
    "Rates(tn,fp,fn,tp)"
   ]
  },
  {
   "cell_type": "code",
   "execution_count": 40,
   "metadata": {},
   "outputs": [],
   "source": [
    "x=confusion_matrix(y_test, Y_pred)\n",
    "cm_df=pd.DataFrame(x,index=[0,1],columns=[0,1])"
   ]
  },
  {
   "cell_type": "markdown",
   "metadata": {},
   "source": [
    "<h2> 6.1 Confusion Matrix for Bag of Words(BoW) </h2>"
   ]
  },
  {
   "cell_type": "code",
   "execution_count": 41,
   "metadata": {},
   "outputs": [
    {
     "data": {
      "text/plain": [
       "<matplotlib.axes._subplots.AxesSubplot at 0x3fff077b7710>"
      ]
     },
     "execution_count": 41,
     "metadata": {},
     "output_type": "execute_result"
    },
    {
     "data": {
      "image/png": "[encoded data removed]",
      "text/plain": [
       "<matplotlib.figure.Figure at 0x3ffeec111fd0>"
      ]
     },
     "metadata": {},
     "output_type": "display_data"
    }
   ],
   "source": [
    "sns.set(font_scale=1.4,color_codes=True,palette=\"deep\")\n",
    "sns.heatmap(cm_df,annot=True,annot_kws={\"size\":16},fmt=\"d\",cmap=\"YlGnBu\")"
   ]
  },
  {
   "cell_type": "code",
   "execution_count": 42,
   "metadata": {},
   "outputs": [
    {
     "data": {
      "text/plain": [
       "0.93788826049359397"
      ]
     },
     "execution_count": 42,
     "metadata": {},
     "output_type": "execute_result"
    }
   ],
   "source": [
    "precision_score=tp/(tp+fp)\n",
    "precision_score"
   ]
  },
  {
   "cell_type": "markdown",
   "metadata": {},
   "source": [
    "The <b>precision score </b> of the model using Multinomial Naive Bayes using <b>Bag of Words</b> representation is found to be <b>93.78%</b>"
   ]
  },
  {
   "cell_type": "code",
   "execution_count": 43,
   "metadata": {},
   "outputs": [
    {
     "data": {
      "text/plain": [
       "0.93436843981463147"
      ]
     },
     "execution_count": 43,
     "metadata": {},
     "output_type": "execute_result"
    }
   ],
   "source": [
    "recall_score=tp/(tp+fn)\n",
    "recall_score"
   ]
  },
  {
   "cell_type": "markdown",
   "metadata": {},
   "source": [
    "The <b>recall score</b> of the model using Multinomial Naive Bayes using <b>Bag of Words</b> representation is found to be <b>93.43%</b>"
   ]
  },
  {
   "cell_type": "code",
   "execution_count": null,
   "metadata": {},
   "outputs": [],
   "source": [
    "f1_score=(2*precision_score*recall_score)/(precision_score+recall_score)\n",
    "f1_score"
   ]
  },
  {
   "cell_type": "markdown",
   "metadata": {},
   "source": [
    "The <b>f1-score</b> of the model using Multinomial Naive Bayes using <b>Bag of Words</b> representation is found to be <b>93.61%</b>"
   ]
  },
  {
   "cell_type": "code",
   "execution_count": 45,
   "metadata": {},
   "outputs": [],
   "source": [
    "#https://stackoverflow.com/questions/11116697/how-to-get-most-informative-features-for-scikit-learn-classifiers?\n",
    "#utm_medium=organic&utm_source=google_rich_qa&utm_campaign=google_rich_qa\n",
    "\n",
    "def show_most_informative_features(vectorizer, clf, n=20):\n",
    "    feature_names = vectorizer.get_feature_names()\n",
    "    coefs_with_fns = sorted(zip(clf.coef_[0], feature_names),reverse=True)\n",
    "    coefs_with_fns=coefs_with_fns[:n]\n",
    "    #top = zip(coefs_with_fns[:n], coefs_with_fns[:-(n + 1):-1])\n",
    "    for (coef_1, fn_1)in coefs_with_fns:\n",
    "        print (\"\\t%.4f\\t%-15s\\t\" % (coef_1, fn_1))"
   ]
  },
  {
   "cell_type": "markdown",
   "metadata": {},
   "source": [
    "<h2> 6.2 Words with higher probability for positive.</h2>"
   ]
  },
  {
   "cell_type": "code",
   "execution_count": 68,
   "metadata": {},
   "outputs": [
    {
     "name": "stdout",
     "output_type": "stream",
     "text": [
      "\t-5.1195\thola           \t\n",
      "\t-5.1280\tviscus         \t\n",
      "\t-5.1292\tmmmmmm         \t\n",
      "\t-5.1435\tmethylisothiaszolinon\t\n",
      "\t-5.1456\tpetrolum       \t\n",
      "\t-5.1555\thelwig         \t\n",
      "\t-5.2074\tgenteel        \t\n",
      "\t-5.2322\tvolvic         \t\n",
      "\t-5.2337\tcookabl        \t\n",
      "\t-5.3181\tsaltimbocca    \t\n",
      "\t-5.4258\tpoper          \t\n",
      "\t-5.4975\tyellowi        \t\n",
      "\t-5.5964\tmozzrella      \t\n",
      "\t-5.6158\thalfdozen      \t\n",
      "\t-5.6696\tryvita         \t\n",
      "\t-5.6810\tcarameley      \t\n",
      "\t-5.7086\tgizard         \t\n",
      "\t-5.7361\tbitz           \t\n",
      "\t-5.7452\tpractict       \t\n",
      "\t-5.7541\tsherbert       \t\n"
     ]
    }
   ],
   "source": [
    "show_most_informative_features(CountVectorizer().fit(all_positive_words), clf, n=20)"
   ]
  },
  {
   "cell_type": "markdown",
   "metadata": {},
   "source": [
    "<h2> 6.3 Words with higher probability for negative. </h2>"
   ]
  },
  {
   "cell_type": "code",
   "execution_count": 69,
   "metadata": {},
   "outputs": [
    {
     "name": "stdout",
     "output_type": "stream",
     "text": [
      "\t-5.1195\twarm           \t\n",
      "\t-5.1555\tuwajimaya      \t\n",
      "\t-5.2074\tstandalon      \t\n",
      "\t-5.2337\tita            \t\n",
      "\t-5.6158\tturmoil        \t\n",
      "\t-5.6810\tfeatur         \t\n",
      "\t-5.7086\tsubsitut       \t\n",
      "\t-5.7361\tcummun         \t\n",
      "\t-5.7950\tspacer         \t\n",
      "\t-5.8013\tbeagl          \t\n",
      "\t-5.8136\tprogres        \t\n",
      "\t-5.8302\tperla          \t\n",
      "\t-5.9120\tpoivr          \t\n",
      "\t-5.9641\tphillipin      \t\n",
      "\t-5.9686\thoneyroast     \t\n",
      "\t-5.9841\tcindi          \t\n",
      "\t-5.9965\tbancha         \t\n",
      "\t-6.0294\tcuter          \t\n",
      "\t-6.1002\tnexium         \t\n",
      "\t-6.1445\tmouldi         \t\n"
     ]
    }
   ],
   "source": [
    "show_most_informative_features(CountVectorizer().fit(all_negative_words), clf, n=20)"
   ]
  },
  {
   "cell_type": "markdown",
   "metadata": {},
   "source": [
    "<h1> 7. TF-IDF </h1>"
   ]
  },
  {
   "cell_type": "markdown",
   "metadata": {},
   "source": [
    "Now lets apply TF-IDF to our cleaned sorted text, to convert text into corresponding vectors"
   ]
  },
  {
   "cell_type": "code",
   "execution_count": 52,
   "metadata": {},
   "outputs": [],
   "source": [
    "#TF-IDF\n",
    "tf_idf_vect = TfidfVectorizer()\n",
    "tf_idf = tf_idf_vect.fit_transform(final_sorted['CleanedText'].values)\n"
   ]
  },
  {
   "cell_type": "code",
   "execution_count": 53,
   "metadata": {},
   "outputs": [
    {
     "data": {
      "text/plain": [
       "(393931, 74585)"
      ]
     },
     "execution_count": 53,
     "metadata": {},
     "output_type": "execute_result"
    }
   ],
   "source": [
    "tf_idf.get_shape()"
   ]
  },
  {
   "cell_type": "markdown",
   "metadata": {},
   "source": [
    "There are total almost 364k data points with around 74.5k dimensions.\n",
    "\n",
    "Splitting the entire datasets into <b>70% train data and 30% test data</b>"
   ]
  },
  {
   "cell_type": "code",
   "execution_count": 54,
   "metadata": {},
   "outputs": [],
   "source": [
    "X_train, X_test, y_train, y_test = train_test_split(tf_idf, \n",
    "                                                             final_sorted['Score'],test_size=0.3,\n",
    "                                                             random_state=0)"
   ]
  },
  {
   "cell_type": "markdown",
   "metadata": {},
   "source": [
    "For performing Cross-Validation we would be using <b>3-fold CV </b> and the values of alpha would be from<b> 0.1 to 1</b>"
   ]
  },
  {
   "cell_type": "code",
   "execution_count": 55,
   "metadata": {},
   "outputs": [],
   "source": [
    "ap=[0.1,0.2,0.3,0.4,0.5,0.6,0.7,0.8,0.9,1.0]\n"
   ]
  },
  {
   "cell_type": "code",
   "execution_count": 56,
   "metadata": {},
   "outputs": [
    {
     "name": "stdout",
     "output_type": "stream",
     "text": [
      "\n",
      "The optimal value of alpha is 0.100000.\n"
     ]
    }
   ],
   "source": [
    "cv_scores=[]\n",
    "# perform 3-fold cross validation\n",
    "for a in ap:\n",
    "    NB= MultinomialNB(alpha=a)\n",
    "    scores = cross_val_score(NB, X_train, y_train, cv=3, scoring='accuracy',n_jobs=1)\n",
    "    cv_scores.append(scores.mean())\n",
    "\n",
    "# changing to misclassification error\n",
    "MSE = [1 - x for x in cv_scores]\n",
    "\n",
    "# determining best k\n",
    "optimal_a = ap[MSE.index(min(MSE))]\n",
    "print('\\nThe optimal value of alpha is %f.' % optimal_a)\n"
   ]
  },
  {
   "cell_type": "code",
   "execution_count": 57,
   "metadata": {},
   "outputs": [
    {
     "data": {
      "image/png": "[encoded data removed]",
      "text/plain": [
       "<matplotlib.figure.Figure at 0x3ffe9fba5e10>"
      ]
     },
     "metadata": {},
     "output_type": "display_data"
    }
   ],
   "source": [
    "# plot misclassification error vs k \n",
    "plt.plot(ap, MSE)\n",
    "\n",
    "for xy in zip(ap, np.round(MSE,3)):\n",
    "    plt.annotate('(%s, %s)' % xy, xy=xy, textcoords='data')\n",
    "\n",
    "plt.xlabel('Value of Alpha')\n",
    "plt.ylabel('Misclassification Error')\n",
    "plt.show()"
   ]
  },
  {
   "cell_type": "markdown",
   "metadata": {},
   "source": [
    "<b> Applying Multinomial Naive Bayes to the training data by using optimal value of alpha</b>."
   ]
  },
  {
   "cell_type": "code",
   "execution_count": 58,
   "metadata": {},
   "outputs": [],
   "source": [
    "clf = MultinomialNB(alpha=optimal_a)\n",
    "clf.fit(X_train,y_train)\n",
    "Y_pred=clf.predict(X_test)"
   ]
  },
  {
   "cell_type": "code",
   "execution_count": 59,
   "metadata": {},
   "outputs": [
    {
     "data": {
      "text/plain": [
       "0.87673041123709594"
      ]
     },
     "execution_count": 59,
     "metadata": {},
     "output_type": "execute_result"
    }
   ],
   "source": [
    "X=clf.score(X_test,y_test)\n",
    "X"
   ]
  },
  {
   "cell_type": "markdown",
   "metadata": {},
   "source": [
    "The <b>accuracy</b> of the model using Multinomial Naive Bayes using <b>TF-IDF</b> representation is found to be <b>87.67%</b>"
   ]
  },
  {
   "cell_type": "code",
   "execution_count": 60,
   "metadata": {},
   "outputs": [
    {
     "name": "stdout",
     "output_type": "stream",
     "text": [
      "True Positive Rate or Sensitivity = 99.243474\n",
      "True Negative Rate or Specificity = 19.706840\n",
      "False Positive Rate or Fall-out = 80.293160\n",
      "False Negative Rate or Missclassification rate = 0.756526\n"
     ]
    }
   ],
   "source": [
    "tn, fp, fn, tp =confusion_matrix(y_test, Y_pred).ravel()\n",
    "Rates(tn,fp,fn,tp)"
   ]
  },
  {
   "cell_type": "code",
   "execution_count": 61,
   "metadata": {},
   "outputs": [],
   "source": [
    "x=confusion_matrix(y_test, Y_pred)\n",
    "cm_df=pd.DataFrame(x,index=[0,1],columns=[0,1])"
   ]
  },
  {
   "cell_type": "markdown",
   "metadata": {},
   "source": [
    "<h2> 7.1 Confusion Matrix for TF-IDF  </h2>"
   ]
  },
  {
   "cell_type": "code",
   "execution_count": 62,
   "metadata": {},
   "outputs": [
    {
     "data": {
      "text/plain": [
       "<matplotlib.axes._subplots.AxesSubplot at 0x3ffe9fba5e80>"
      ]
     },
     "execution_count": 62,
     "metadata": {},
     "output_type": "execute_result"
    },
    {
     "data": {
      "image/png": "[encoded data removed]",
      "text/plain": [
       "<matplotlib.figure.Figure at 0x3ffec69ba2e8>"
      ]
     },
     "metadata": {},
     "output_type": "display_data"
    }
   ],
   "source": [
    "sns.set(font_scale=1.4,color_codes=True,palette=\"deep\")\n",
    "sns.heatmap(cm_df,annot=True,annot_kws={\"size\":16},fmt=\"d\",cmap=\"YlGnBu\")"
   ]
  },
  {
   "cell_type": "code",
   "execution_count": 63,
   "metadata": {},
   "outputs": [
    {
     "data": {
      "text/plain": [
       "0.87894201424211593"
      ]
     },
     "execution_count": 63,
     "metadata": {},
     "output_type": "execute_result"
    }
   ],
   "source": [
    "precision_score=tp/(tp+fp)\n",
    "precision_score"
   ]
  },
  {
   "cell_type": "markdown",
   "metadata": {},
   "source": [
    "The <b>precision score </b> of the model using Multinomial Naive Bayes using <b>TF-IDF</b> representation is found to be <b>87.89%</b>"
   ]
  },
  {
   "cell_type": "code",
   "execution_count": 64,
   "metadata": {},
   "outputs": [
    {
     "data": {
      "text/plain": [
       "0.99243474472214521"
      ]
     },
     "execution_count": 64,
     "metadata": {},
     "output_type": "execute_result"
    }
   ],
   "source": [
    "recall_score=tp/(tp+fn)\n",
    "recall_score"
   ]
  },
  {
   "cell_type": "markdown",
   "metadata": {},
   "source": [
    "The <b>recall score</b> of the model using Multinomial Naive Bayes using <b>TF-IDF</b> representation is found to be <b>99.24%</b>"
   ]
  },
  {
   "cell_type": "code",
   "execution_count": 65,
   "metadata": {},
   "outputs": [
    {
     "data": {
      "text/plain": [
       "0.93224690255608889"
      ]
     },
     "execution_count": 65,
     "metadata": {},
     "output_type": "execute_result"
    }
   ],
   "source": [
    "f1_score=(2*precision_score*recall_score)/(precision_score+recall_score)\n",
    "f1_score"
   ]
  },
  {
   "cell_type": "markdown",
   "metadata": {},
   "source": [
    "The <b>f1-score</b> of the model using Multinomial Naive Bayes using <b>TF-IDF</b> representation is found to be <b>93.22%</b>"
   ]
  },
  {
   "cell_type": "markdown",
   "metadata": {},
   "source": [
    "<h2> 7.2 Words with higher Probability for positive </h2>"
   ]
  },
  {
   "cell_type": "code",
   "execution_count": 70,
   "metadata": {},
   "outputs": [
    {
     "name": "stdout",
     "output_type": "stream",
     "text": [
      "\t-5.1195\thola           \t\n",
      "\t-5.1280\tviscus         \t\n",
      "\t-5.1292\tmmmmmm         \t\n",
      "\t-5.1435\tmethylisothiaszolinon\t\n",
      "\t-5.1456\tpetrolum       \t\n",
      "\t-5.1555\thelwig         \t\n",
      "\t-5.2074\tgenteel        \t\n",
      "\t-5.2322\tvolvic         \t\n",
      "\t-5.2337\tcookabl        \t\n",
      "\t-5.3181\tsaltimbocca    \t\n",
      "\t-5.4258\tpoper          \t\n",
      "\t-5.4975\tyellowi        \t\n",
      "\t-5.5964\tmozzrella      \t\n",
      "\t-5.6158\thalfdozen      \t\n",
      "\t-5.6696\tryvita         \t\n",
      "\t-5.6810\tcarameley      \t\n",
      "\t-5.7086\tgizard         \t\n",
      "\t-5.7361\tbitz           \t\n",
      "\t-5.7452\tpractict       \t\n",
      "\t-5.7541\tsherbert       \t\n"
     ]
    }
   ],
   "source": [
    "show_most_informative_features(TfidfVectorizer().fit(all_positive_words), clf, n=20)"
   ]
  },
  {
   "cell_type": "markdown",
   "metadata": {},
   "source": [
    "<h2> 7.3 Words with higher Probability for negative </h2>"
   ]
  },
  {
   "cell_type": "code",
   "execution_count": 71,
   "metadata": {},
   "outputs": [
    {
     "name": "stdout",
     "output_type": "stream",
     "text": [
      "\t-5.1195\twarm           \t\n",
      "\t-5.1555\tuwajimaya      \t\n",
      "\t-5.2074\tstandalon      \t\n",
      "\t-5.2337\tita            \t\n",
      "\t-5.6158\tturmoil        \t\n",
      "\t-5.6810\tfeatur         \t\n",
      "\t-5.7086\tsubsitut       \t\n",
      "\t-5.7361\tcummun         \t\n",
      "\t-5.7950\tspacer         \t\n",
      "\t-5.8013\tbeagl          \t\n",
      "\t-5.8136\tprogres        \t\n",
      "\t-5.8302\tperla          \t\n",
      "\t-5.9120\tpoivr          \t\n",
      "\t-5.9641\tphillipin      \t\n",
      "\t-5.9686\thoneyroast     \t\n",
      "\t-5.9841\tcindi          \t\n",
      "\t-5.9965\tbancha         \t\n",
      "\t-6.0294\tcuter          \t\n",
      "\t-6.1002\tnexium         \t\n",
      "\t-6.1445\tmouldi         \t\n"
     ]
    }
   ],
   "source": [
    "show_most_informative_features(TfidfVectorizer().fit(all_negative_words), clf, n=20)"
   ]
  },
  {
   "cell_type": "markdown",
   "metadata": {},
   "source": [
    "<h1> 8. Word2Vec (W2V) </h1>"
   ]
  },
  {
   "cell_type": "code",
   "execution_count": 47,
   "metadata": {},
   "outputs": [
    {
     "name": "stdout",
     "output_type": "stream",
     "text": [
      "Requirement already satisfied: gensim in /opt/conda/envs/py3.6/lib/python3.6/site-packages (3.4.0)\n",
      "Requirement already satisfied: scipy>=0.18.1 in /opt/conda/envs/py3.6/lib/python3.6/site-packages (from gensim) (0.19.1)\n",
      "Requirement already satisfied: six>=1.5.0 in /opt/conda/envs/py3.6/lib/python3.6/site-packages (from gensim) (1.11.0)\n",
      "Requirement already satisfied: smart-open>=1.2.1 in /opt/conda/envs/py3.6/lib/python3.6/site-packages (from gensim) (1.5.7)\n",
      "Requirement already satisfied: numpy>=1.11.3 in /opt/conda/envs/py3.6/lib/python3.6/site-packages (from gensim) (1.12.1)\n",
      "Requirement already satisfied: boto3 in /opt/conda/envs/py3.6/lib/python3.6/site-packages (from smart-open>=1.2.1->gensim) (1.7.25)\n",
      "Requirement already satisfied: requests in /opt/conda/envs/py3.6/lib/python3.6/site-packages (from smart-open>=1.2.1->gensim) (2.18.4)\n",
      "Requirement already satisfied: boto>=2.32 in /opt/conda/envs/py3.6/lib/python3.6/site-packages (from smart-open>=1.2.1->gensim) (2.48.0)\n",
      "Requirement already satisfied: bz2file in /opt/conda/envs/py3.6/lib/python3.6/site-packages (from smart-open>=1.2.1->gensim) (0.98)\n",
      "Requirement already satisfied: s3transfer<0.2.0,>=0.1.10 in /opt/conda/envs/py3.6/lib/python3.6/site-packages (from boto3->smart-open>=1.2.1->gensim) (0.1.13)\n",
      "Requirement already satisfied: jmespath<1.0.0,>=0.7.1 in /opt/conda/envs/py3.6/lib/python3.6/site-packages (from boto3->smart-open>=1.2.1->gensim) (0.9.3)\n",
      "Requirement already satisfied: botocore<1.11.0,>=1.10.25 in /opt/conda/envs/py3.6/lib/python3.6/site-packages (from boto3->smart-open>=1.2.1->gensim) (1.10.25)\n",
      "Requirement already satisfied: chardet<3.1.0,>=3.0.2 in /opt/conda/envs/py3.6/lib/python3.6/site-packages (from requests->smart-open>=1.2.1->gensim) (3.0.4)\n",
      "Requirement already satisfied: idna<2.7,>=2.5 in /opt/conda/envs/py3.6/lib/python3.6/site-packages (from requests->smart-open>=1.2.1->gensim) (2.6)\n",
      "Requirement already satisfied: urllib3<1.23,>=1.21.1 in /opt/conda/envs/py3.6/lib/python3.6/site-packages (from requests->smart-open>=1.2.1->gensim) (1.22)\n",
      "Requirement already satisfied: certifi>=2017.4.17 in /opt/conda/envs/py3.6/lib/python3.6/site-packages (from requests->smart-open>=1.2.1->gensim) (2018.1.18)\n",
      "Requirement already satisfied: python-dateutil<3.0.0,>=2.1; python_version >= \"2.7\" in /opt/conda/envs/py3.6/lib/python3.6/site-packages (from botocore<1.11.0,>=1.10.25->boto3->smart-open>=1.2.1->gensim) (2.7.2)\n",
      "Requirement already satisfied: docutils>=0.10 in /opt/conda/envs/py3.6/lib/python3.6/site-packages (from botocore<1.11.0,>=1.10.25->boto3->smart-open>=1.2.1->gensim) (0.14)\n",
      "\u001b[31mjupyter 1.0.0 requires qtconsole, which is not installed.\u001b[0m\n",
      "\u001b[31mipywidgets 7.0.3 has requirement widgetsnbextension~=3.0.0, but you'll have widgetsnbextension 3.2.0 which is incompatible.\u001b[0m\n"
     ]
    }
   ],
   "source": [
    "!pip install gensim"
   ]
  },
  {
   "cell_type": "markdown",
   "metadata": {},
   "source": [
    "Now lets apply Avg Word2Vec to our cleaned sorted text, to convert text into corresponding vectors"
   ]
  },
  {
   "cell_type": "code",
   "execution_count": 48,
   "metadata": {},
   "outputs": [],
   "source": [
    "# Training your own Word2Vec model using your own text corpus\n",
    "\n",
    "\n",
    "#First creating a list of words in sentences.\n",
    "\n",
    "import warnings\n",
    "warnings.filterwarnings(action='ignore', category=UserWarning, module='gensim')\n",
    "import gensim\n",
    "\n",
    "i=0\n",
    "list_of_sent=[]\n",
    "for sent in final_sorted['CleanedText'].values:\n",
    "    filtered_sentence=[]\n",
    "    sent=cleanhtml(sent)\n",
    "    for w in sent.split():\n",
    "        for cleaned_words in cleanpunc(w).split():\n",
    "            if(cleaned_words.isalpha()):    \n",
    "                filtered_sentence.append(cleaned_words.lower())\n",
    "            else:\n",
    "                continue \n",
    "    list_of_sent.append(filtered_sentence)\n",
    "    "
   ]
  },
  {
   "cell_type": "code",
   "execution_count": 49,
   "metadata": {},
   "outputs": [],
   "source": [
    "# Training our own Word2Vec model using text corpus\n",
    "w2v_model=gensim.models.Word2Vec(list_of_sent,min_count=5,size=300, workers=4)    \n"
   ]
  },
  {
   "cell_type": "code",
   "execution_count": 50,
   "metadata": {},
   "outputs": [
    {
     "name": "stdout",
     "output_type": "stream",
     "text": [
      "393931\n",
      "300\n"
     ]
    }
   ],
   "source": [
    "np.seterr(divide='ignore', invalid='ignore')\n",
    "# average Word2Vec\n",
    "# compute average word2vec for each review.\n",
    "sent_vectors = []; # the avg-w2v for each sentence/review is stored in this list\n",
    "for sent in list_of_sent: # for each review/sentence\n",
    "    sent_vec = np.zeros(300) # as word vectors are of zero length\n",
    "    cnt_words =0; # num of words with a valid vector in the sentence/review\n",
    "    for word in sent: # for each word in a review/sentence\n",
    "        try:\n",
    "            vec = w2v_model.wv[word]\n",
    "            sent_vec += vec\n",
    "            cnt_words += 1\n",
    "        except:\n",
    "            pass\n",
    "    sent_vec /= cnt_words\n",
    "    sent_vectors.append(sent_vec)\n",
    "print(len(sent_vectors))\n",
    "print(len(sent_vectors[0]))"
   ]
  },
  {
   "cell_type": "code",
   "execution_count": 51,
   "metadata": {},
   "outputs": [],
   "source": [
    "sent_vectors=pd.DataFrame(sent_vectors)"
   ]
  },
  {
   "cell_type": "code",
   "execution_count": 52,
   "metadata": {},
   "outputs": [],
   "source": [
    "from sklearn.preprocessing import Imputer\n",
    "imputer=Imputer()\n",
    "sent_vectors=imputer.fit_transform(sent_vectors)"
   ]
  },
  {
   "cell_type": "markdown",
   "metadata": {},
   "source": [
    "There are total almost 364k data points with around 300 dimensions.\n",
    "\n",
    "Splitting the entire datasets into <b>70% train data and 30% test data</b>"
   ]
  },
  {
   "cell_type": "code",
   "execution_count": 53,
   "metadata": {},
   "outputs": [],
   "source": [
    "X_train, X_test, y_train, y_test = train_test_split(sent_vectors, \n",
    "                                                             final_sorted['Score'],test_size=0.3,\n",
    "                                                             random_state=0)"
   ]
  },
  {
   "cell_type": "markdown",
   "metadata": {},
   "source": [
    "For performing Cross-Validation we would be using <b>3-fold CV </b> and the values of alpha would be from<b> 0.1 to 1</b>"
   ]
  },
  {
   "cell_type": "code",
   "execution_count": 54,
   "metadata": {},
   "outputs": [],
   "source": [
    "ap=[0.1,0.2,0.3,0.4,0.5,0.6,0.7,0.8,0.9,1.0]"
   ]
  },
  {
   "cell_type": "code",
   "execution_count": 55,
   "metadata": {},
   "outputs": [
    {
     "name": "stdout",
     "output_type": "stream",
     "text": [
      "\n",
      "The optimal number of neighbors is 0.100000.\n"
     ]
    }
   ],
   "source": [
    "cv_scores=[]\n",
    "# perform 3-fold cross validation\n",
    "for a in ap:\n",
    "    NB= MultinomialNB(alpha=a)\n",
    "    scores = cross_val_score(NB, abs(X_train), y_train, cv=3, scoring='accuracy',n_jobs=1)\n",
    "    cv_scores.append(scores.mean())\n",
    "\n",
    "# changing to misclassification error\n",
    "MSE = [1 - x for x in cv_scores]\n",
    "\n",
    "# determining best k\n",
    "optimal_a = ap[MSE.index(min(MSE))]\n",
    "print('\\nThe optimal number of neighbors is %f.' % optimal_a)\n",
    "\n"
   ]
  },
  {
   "cell_type": "code",
   "execution_count": 56,
   "metadata": {},
   "outputs": [
    {
     "data": {
      "image/png": "[encoded data removed]",
      "text/plain": [
       "<matplotlib.figure.Figure at 0x3ffea32e6b00>"
      ]
     },
     "metadata": {},
     "output_type": "display_data"
    }
   ],
   "source": [
    "# plot misclassification error vs k \n",
    "plt.plot(ap, MSE)\n",
    "\n",
    "for xy in zip(ap, np.round(MSE,3)):\n",
    "    plt.annotate('(%s, %s)' % xy, xy=xy, textcoords='data')\n",
    "\n",
    "plt.xlabel('Value of Alpha')\n",
    "plt.ylabel('Misclassification Error')\n",
    "plt.show()"
   ]
  },
  {
   "cell_type": "markdown",
   "metadata": {},
   "source": [
    "<b> Applying Multinomial Naive Bayes to the training data by using optimal value of alpha</b>."
   ]
  },
  {
   "cell_type": "code",
   "execution_count": 57,
   "metadata": {},
   "outputs": [],
   "source": [
    "clf = MultinomialNB(alpha=optimal_a)\n",
    "clf.fit(abs(X_train),y_train)\n",
    "Y_pred=clf.predict(X_test)"
   ]
  },
  {
   "cell_type": "code",
   "execution_count": 58,
   "metadata": {},
   "outputs": [
    {
     "data": {
      "text/plain": [
       "0.85456083939752914"
      ]
     },
     "execution_count": 58,
     "metadata": {},
     "output_type": "execute_result"
    }
   ],
   "source": [
    "X=clf.score(X_test,y_test)\n",
    "X"
   ]
  },
  {
   "cell_type": "markdown",
   "metadata": {},
   "source": [
    "The <b>accuracy</b> of the model using Multinomial Naive Bayes using <b>Avg Word2Vec</b> representation is found to be <b>85.54%</b>"
   ]
  },
  {
   "cell_type": "code",
   "execution_count": 59,
   "metadata": {},
   "outputs": [
    {
     "name": "stdout",
     "output_type": "stream",
     "text": [
      "True Positive Rate or Sensitivity = 99.989108\n",
      "True Negative Rate or Specificity = 0.087250\n",
      "False Positive Rate or Fall-out = 99.912750\n",
      "False Negative Rate or Missclassification rate = 0.010892\n"
     ]
    }
   ],
   "source": [
    "tn, fp, fn, tp =confusion_matrix(y_test, Y_pred).ravel()\n",
    "Rates(tn,fp,fn,tp)"
   ]
  },
  {
   "cell_type": "markdown",
   "metadata": {},
   "source": [
    "<h2> 8.1 Confusion Matrix for W2Vec </h2>"
   ]
  },
  {
   "cell_type": "code",
   "execution_count": 60,
   "metadata": {},
   "outputs": [],
   "source": [
    "x=confusion_matrix(y_test, Y_pred)\n",
    "cm_df=pd.DataFrame(x,index=[0,1],columns=[0,1])"
   ]
  },
  {
   "cell_type": "code",
   "execution_count": 61,
   "metadata": {},
   "outputs": [
    {
     "data": {
      "text/plain": [
       "<matplotlib.axes._subplots.AxesSubplot at 0x3ffea32e6588>"
      ]
     },
     "execution_count": 61,
     "metadata": {},
     "output_type": "execute_result"
    },
    {
     "data": {
      "image/png": "[encoded data removed]",
      "text/plain": [
       "<matplotlib.figure.Figure at 0x3ffea32eaba8>"
      ]
     },
     "metadata": {},
     "output_type": "display_data"
    }
   ],
   "source": [
    "sns.set(font_scale=1.4,color_codes=True,palette=\"deep\")\n",
    "sns.heatmap(cm_df,annot=True,annot_kws={\"size\":16},fmt=\"d\",cmap=\"YlGnBu\")"
   ]
  },
  {
   "cell_type": "code",
   "execution_count": 62,
   "metadata": {},
   "outputs": [
    {
     "data": {
      "text/plain": [
       "0.85462193408602327"
      ]
     },
     "execution_count": 62,
     "metadata": {},
     "output_type": "execute_result"
    }
   ],
   "source": [
    "precision_score=tp/(tp+fp)\n",
    "precision_score"
   ]
  },
  {
   "cell_type": "markdown",
   "metadata": {},
   "source": [
    "The <b>precision score </b> of the model using Multinomial Naive Bayes using <b>Avg Word2Vec</b> representation is found to be <b>85.46%</b>"
   ]
  },
  {
   "cell_type": "code",
   "execution_count": 63,
   "metadata": {},
   "outputs": [
    {
     "data": {
      "text/plain": [
       "0.99989107616746542"
      ]
     },
     "execution_count": 63,
     "metadata": {},
     "output_type": "execute_result"
    }
   ],
   "source": [
    "recall_score=tp/(tp+fn)\n",
    "recall_score"
   ]
  },
  {
   "cell_type": "markdown",
   "metadata": {},
   "source": [
    "The <b>recall score</b> of the model using Multinomial Naive Bayes using <b>Avg Word2Vec</b> representation is found to be <b>99.98%</b>"
   ]
  },
  {
   "cell_type": "code",
   "execution_count": 64,
   "metadata": {},
   "outputs": [
    {
     "data": {
      "text/plain": [
       "0.92156683794069605"
      ]
     },
     "execution_count": 64,
     "metadata": {},
     "output_type": "execute_result"
    }
   ],
   "source": [
    "f1_score=(2*precision_score*recall_score)/(precision_score+recall_score)\n",
    "f1_score"
   ]
  },
  {
   "cell_type": "markdown",
   "metadata": {},
   "source": [
    "The <b>f1-score</b> of the model using Multinomial Naive Bayes using <b>Avg Word2Vec</b> representation is found to be <b>92.15%</b>"
   ]
  },
  {
   "cell_type": "markdown",
   "metadata": {},
   "source": [
    "<h1> 9. TF-IDF Weighted Word2Vec </h1>"
   ]
  },
  {
   "cell_type": "markdown",
   "metadata": {},
   "source": [
    "Now lets apply TF-IDF Word2Vec to our cleaned sorted text, to convert text into corresponding vectors"
   ]
  },
  {
   "cell_type": "code",
   "execution_count": 65,
   "metadata": {},
   "outputs": [],
   "source": [
    "tfidf_feat = tf_idf_vect.get_feature_names() # tfidf words/col-names"
   ]
  },
  {
   "cell_type": "code",
   "execution_count": 66,
   "metadata": {},
   "outputs": [],
   "source": [
    "#TF-IDF weighted Word2Vec\n",
    "\n",
    "tfidf_sent_vectors = []; # the tfidf-w2v for each sentence/review is stored in this list\n",
    "row=0;\n",
    "for sent in list_of_sent: # for each review/sentence\n",
    "    sent_vec = np.zeros(300) # as word vectors are of zero length\n",
    "    weight_sum =0; # num of words with a valid vector in the sentence/review\n",
    "    for word in sent: # for each word in a review/sentence\n",
    "        try:\n",
    "            vec = w2v_model.wv[word]\n",
    "            # obtain the tf_idfidf of a word in a sentence/review\n",
    "            tfidf = tf_idf[row, tfidf_feat.index(word)]\n",
    "            sent_vec += (vec * tfidf)\n",
    "            weight_sum += tfidf\n",
    "           \n",
    "        except:\n",
    "            pass\n",
    "    sent_vec /= weight_sum\n",
    "    tfidf_sent_vectors.append(sent_vec)\n",
    "    row += 1"
   ]
  },
  {
   "cell_type": "code",
   "execution_count": 69,
   "metadata": {},
   "outputs": [],
   "source": [
    "tfidf_sent_vectors=pd.DataFrame(tfidf_sent_vectors)"
   ]
  },
  {
   "cell_type": "code",
   "execution_count": 70,
   "metadata": {},
   "outputs": [],
   "source": [
    "from sklearn.preprocessing import Imputer\n",
    "imputer=Imputer()\n",
    "tfidf_sent_vectors=imputer.fit_transform(tfidf_sent_vectors)"
   ]
  },
  {
   "cell_type": "markdown",
   "metadata": {},
   "source": [
    "There are total almost 364k data points with around 300 dimensions.\n",
    "\n",
    "Splitting the entire datasets into <b>70% train data and 30% test data</b>"
   ]
  },
  {
   "cell_type": "code",
   "execution_count": 71,
   "metadata": {},
   "outputs": [],
   "source": [
    "X_train, X_test, y_train, y_test = train_test_split(tfidf_sent_vectors, \n",
    "                                                             final_sorted['Score'],test_size=0.3,\n",
    "                                                             random_state=0)"
   ]
  },
  {
   "cell_type": "markdown",
   "metadata": {},
   "source": [
    "For performing Cross-Validation we would be using <b>3-fold CV </b> and the values of alpha would be from<b> 0.1 to 1</b>"
   ]
  },
  {
   "cell_type": "code",
   "execution_count": 72,
   "metadata": {},
   "outputs": [],
   "source": [
    "ap=[0.1,0.2,0.3,0.4,0.5,0.6,0.7,0.8,0.9,1.0]"
   ]
  },
  {
   "cell_type": "code",
   "execution_count": 73,
   "metadata": {},
   "outputs": [
    {
     "name": "stdout",
     "output_type": "stream",
     "text": [
      "\n",
      "The optimal value of alpha is 0.100000.\n"
     ]
    }
   ],
   "source": [
    "cv_scores=[]\n",
    "# perform 3-fold cross validation\n",
    "for a in ap:\n",
    "    NB= MultinomialNB(alpha=a)\n",
    "    scores = cross_val_score(NB, abs(X_train), y_train, cv=3, scoring='accuracy',n_jobs=1)\n",
    "    cv_scores.append(scores.mean())\n",
    "\n",
    "# changing to misclassification error\n",
    "MSE = [1 - x for x in cv_scores]\n",
    "\n",
    "# determining best k\n",
    "optimal_a = ap[MSE.index(min(MSE))]\n",
    "print('\\nThe optimal value of alpha is %f.' % optimal_a)\n",
    "\n"
   ]
  },
  {
   "cell_type": "code",
   "execution_count": 74,
   "metadata": {},
   "outputs": [
    {
     "data": {
      "image/png": "[encoded data removed]",
      "text/plain": [
       "<matplotlib.figure.Figure at 0x3ffee4a68c18>"
      ]
     },
     "metadata": {},
     "output_type": "display_data"
    }
   ],
   "source": [
    "# plot misclassification error vs k \n",
    "plt.plot(ap, MSE)\n",
    "\n",
    "for xy in zip(ap, np.round(MSE,3)):\n",
    "    plt.annotate('(%s, %s)' % xy, xy=xy, textcoords='data')\n",
    "\n",
    "plt.xlabel('Value of Alpha')\n",
    "plt.ylabel('Misclassification Error')\n",
    "plt.show()"
   ]
  },
  {
   "cell_type": "markdown",
   "metadata": {},
   "source": [
    "<b> Applying Multinomial Naive Bayes to the training data by using optimal value of alpha</b>."
   ]
  },
  {
   "cell_type": "code",
   "execution_count": 75,
   "metadata": {},
   "outputs": [],
   "source": [
    "clf = MultinomialNB(alpha=optimal_a)\n",
    "clf.fit(abs(X_train),y_train)\n",
    "Y_pred=clf.predict(X_test)"
   ]
  },
  {
   "cell_type": "code",
   "execution_count": 76,
   "metadata": {},
   "outputs": [
    {
     "data": {
      "text/plain": [
       "0.85438314435606699"
      ]
     },
     "execution_count": 76,
     "metadata": {},
     "output_type": "execute_result"
    }
   ],
   "source": [
    "X=clf.score(X_test,y_test)\n",
    "X"
   ]
  },
  {
   "cell_type": "markdown",
   "metadata": {},
   "source": [
    "The <b>accuracy</b> of the model using Multinomial Naive Bayes using <b>TF-IDF Word2Vec</b> representation is found to be <b>85.43%</b>"
   ]
  },
  {
   "cell_type": "code",
   "execution_count": 77,
   "metadata": {},
   "outputs": [
    {
     "name": "stdout",
     "output_type": "stream",
     "text": [
      "True Positive Rate or Sensitivity = 99.970294\n",
      "True Negative Rate or Specificity = 0.075617\n",
      "False Positive Rate or Fall-out = 99.924383\n",
      "False Negative Rate or Missclassification rate = 0.029706\n"
     ]
    }
   ],
   "source": [
    "tn, fp, fn, tp =confusion_matrix(y_test, Y_pred).ravel()\n",
    "Rates(tn,fp,fn,tp)"
   ]
  },
  {
   "cell_type": "code",
   "execution_count": 78,
   "metadata": {},
   "outputs": [],
   "source": [
    "x=confusion_matrix(y_test, Y_pred)\n",
    "cm_df=pd.DataFrame(x,index=[0,1],columns=[0,1])"
   ]
  },
  {
   "cell_type": "markdown",
   "metadata": {},
   "source": [
    "<h2> 9.1 Confusion Matrix for (TF-IDF Word2Vec) </h2>"
   ]
  },
  {
   "cell_type": "code",
   "execution_count": 79,
   "metadata": {},
   "outputs": [
    {
     "data": {
      "text/plain": [
       "<matplotlib.axes._subplots.AxesSubplot at 0x3ffee4633cc0>"
      ]
     },
     "execution_count": 79,
     "metadata": {},
     "output_type": "execute_result"
    },
    {
     "data": {
      "image/png": "[encoded data removed]",
      "text/plain": [
       "<matplotlib.figure.Figure at 0x3ffee46c8f60>"
      ]
     },
     "metadata": {},
     "output_type": "display_data"
    }
   ],
   "source": [
    "sns.set(font_scale=1.4,color_codes=True,palette=\"deep\")\n",
    "sns.heatmap(cm_df,annot=True,annot_kws={\"size\":16},fmt=\"d\",cmap=\"YlGnBu\")"
   ]
  },
  {
   "cell_type": "code",
   "execution_count": 80,
   "metadata": {},
   "outputs": [
    {
     "data": {
      "text/plain": [
       "0.85458408457976753"
      ]
     },
     "execution_count": 80,
     "metadata": {},
     "output_type": "execute_result"
    }
   ],
   "source": [
    "precision_score=tp/(tp+fp)\n",
    "precision_score"
   ]
  },
  {
   "cell_type": "markdown",
   "metadata": {},
   "source": [
    "The <b>precision score </b> of the model using Multinomial Naive Bayes using <b>TF-IDF Word2vec</b> representation is found to be <b>85.45%</b>"
   ]
  },
  {
   "cell_type": "code",
   "execution_count": 81,
   "metadata": {},
   "outputs": [
    {
     "data": {
      "text/plain": [
       "0.99970293500217844"
      ]
     },
     "execution_count": 81,
     "metadata": {},
     "output_type": "execute_result"
    }
   ],
   "source": [
    "recall_score=tp/(tp+fn)\n",
    "recall_score"
   ]
  },
  {
   "cell_type": "markdown",
   "metadata": {},
   "source": [
    "The <b>recall score</b> of the model using Multinomial Naive Bayes using <b>TF-IDF Word2Vec</b> representation is found to be <b>99.97%</b>"
   ]
  },
  {
   "cell_type": "code",
   "execution_count": 82,
   "metadata": {},
   "outputs": [
    {
     "data": {
      "text/plain": [
       "0.92146491728465474"
      ]
     },
     "execution_count": 82,
     "metadata": {},
     "output_type": "execute_result"
    }
   ],
   "source": [
    "f1_score=(2*precision_score*recall_score)/(precision_score+recall_score)\n",
    "f1_score"
   ]
  },
  {
   "cell_type": "markdown",
   "metadata": {},
   "source": [
    "The <b>f1-score</b> of the model using Multinomial Naive Bayes using <b>TF-IDF Word2Vec</b> representation is found to be <b>92.14%</b>"
   ]
  },
  {
   "cell_type": "markdown",
   "metadata": {},
   "source": [
    "<h1>10.  Conclusions </h1>"
   ]
  },
  {
   "cell_type": "markdown",
   "metadata": {},
   "source": [
    "* Multinomial Naive Bayes is applied to Amazon food reviews data sets.\n",
    "* The review text is converted into vectors using BoW,TF-IDF,Word2Vec,TF-IDF Word2Vec.\n",
    "* The accuracy, precision, recall and f1-score for all the methods is shown below."
   ]
  },
  {
   "cell_type": "markdown",
   "metadata": {},
   "source": [
    "* Method----------------Accuracy(%)-------------Precision(%)----------Recall(%)---------F1-Score(%)  \n",
    "* Bow--------------------------89.10---------------------93.78---------------93.43--------------93.61       \n",
    "* TF-IDF----------------------87.67---------------------87.89---------------99.24--------------93.22\n",
    "* Word2Vec------------------85.54---------------------85.46---------------99.98--------------92.15\n",
    "* TF-IDF Word2Vec--------85.43--------------------85.45---------------99.97--------------92.14 "
   ]
  }
 ],
 "metadata": {
  "kernelspec": {
   "display_name": "Python 3",
   "language": "python",
   "name": "python3"
  },
  "language_info": {
   "codemirror_mode": {
    "name": "ipython",
    "version": 3
   },
   "file_extension": ".py",
   "mimetype": "text/x-python",
   "name": "python",
   "nbconvert_exporter": "python",
   "pygments_lexer": "ipython3",
   "version": "3.6.5"
  }
 },
 "nbformat": 4,
 "nbformat_minor": 2
}
